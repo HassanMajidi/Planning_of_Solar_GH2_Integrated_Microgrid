{
 "cells": [
  {
   "cell_type": "code",
   "execution_count": 1,
   "id": "256fb7e3",
   "metadata": {},
   "outputs": [],
   "source": [
    "import numpy as np\n",
    "import pandas as pd\n",
    "from pyomo.environ import *\n",
    "import matplotlib.pyplot as plt\n",
    "import time\n",
    "import random"
   ]
  },
  {
   "cell_type": "code",
   "execution_count": 2,
   "id": "aa9076d4",
   "metadata": {},
   "outputs": [],
   "source": [
    "ELoad = pd.read_excel('data/electrical load/2015.xls')\n",
    "PVLoad = pd.read_excel('data/PV/2015.xls')\n",
    "PVirr = pd.read_csv('data/PV/irr.csv')\n",
    "PVangle = pd.read_excel('data/PV/angle.xlsx')"
   ]
  },
  {
   "cell_type": "code",
   "execution_count": 3,
   "id": "5098913b",
   "metadata": {},
   "outputs": [],
   "source": [
    "ELoad = ELoad['MV'].values\n",
    "PVLoad = PVLoad['MV'].values\n",
    "PVirr = PVirr['irr'].values\n",
    "PVangle = PVangle['angle'].values\n",
    "PVangle = PVangle[list(range(0,96,4))]\n",
    "PVangle = np.tile(PVangle,365)"
   ]
  },
  {
   "cell_type": "code",
   "execution_count": 4,
   "id": "65dcd24c",
   "metadata": {},
   "outputs": [],
   "source": [
    "PVirrH = np.cos(PVangle*np.pi/180)*PVirr\n",
    "PVirrV = np.sin(PVangle*np.pi/180)*PVirr"
   ]
  },
  {
   "cell_type": "code",
   "execution_count": 5,
   "id": "08218a41",
   "metadata": {},
   "outputs": [
    {
     "data": {
      "text/plain": [
       "[<matplotlib.lines.Line2D at 0x18d68dd6100>]"
      ]
     },
     "execution_count": 5,
     "metadata": {},
     "output_type": "execute_result"
    },
    {
     "data": {
      "image/png": "[encoded data removed]",
      "text/plain": [
       "<Figure size 640x480 with 1 Axes>"
      ]
     },
     "metadata": {},
     "output_type": "display_data"
    }
   ],
   "source": [
    "plt.plot(PVirrV[:24])"
   ]
  },
  {
   "cell_type": "code",
   "execution_count": 146,
   "id": "cb7b7d18",
   "metadata": {},
   "outputs": [],
   "source": [
    "CCPV = 2000;\n",
    "RCPV = 1700;\n",
    "MCPV = 20;\n",
    "LPV = 20;\n",
    "AvPV = 0.96;\n",
    "CCel = 2000;\n",
    "RCel = 1500;\n",
    "MCel = 25;\n",
    "Lel = 20;\n",
    "Avel = 1;\n",
    "etael = 0.75;\n",
    "CCHST = 1300;\n",
    "RCHST = 1200;\n",
    "MCHST = 15;\n",
    "etaHST = 0.95;\n",
    "LHST = 20;\n",
    "AvHST = 1;\n",
    "CCFC = 4000;\n",
    "RCFC = 3500;\n",
    "MCFC = 300;\n",
    "etaFC = 0.5;\n",
    "LFC = 5;\n",
    "AvFC = 1;\n",
    "CCin = 800;\n",
    "RCin = 750;\n",
    "MCin = 15;\n",
    "etain = 0.9;\n",
    "Lin = 15;\n",
    "Avin = 1;\n",
    "e0 = 0\n",
    "HSTC = 2500*2;\n",
    "ir = 0.06\n",
    "year = 20;\n",
    "pCoE = 0.4\n",
    "lolmax = 0.01 # 0.1 or 0.01"
   ]
  },
  {
   "cell_type": "code",
   "execution_count": 147,
   "id": "df0d6b3c",
   "metadata": {},
   "outputs": [],
   "source": [
    "PVLoad = PVLoad/PVLoad.max()*2500*2\n",
    "ELoad = ELoad/ELoad.max()*200"
   ]
  },
  {
   "cell_type": "code",
   "execution_count": 148,
   "id": "4659f552",
   "metadata": {},
   "outputs": [
    {
     "name": "stdout",
     "output_type": "stream",
     "text": [
      "6832378.230227095\n"
     ]
    },
    {
     "data": {
      "text/plain": [
       "1253955.1991313733"
      ]
     },
     "execution_count": 148,
     "metadata": {},
     "output_type": "execute_result"
    }
   ],
   "source": [
    "print(PVLoad.sum())\n",
    "ELoad.sum()"
   ]
  },
  {
   "cell_type": "code",
   "execution_count": 149,
   "id": "944596c2",
   "metadata": {},
   "outputs": [],
   "source": [
    "KPV = sum(1/(1+ir)**(i*LPV) for i in range(1,2))\n",
    "Kel = sum(1/(1+ir)**(i*Lel) for i in range(1,2))\n",
    "KHST = sum(1/(1+ir)**(i*LHST) for i in range(1,2))\n",
    "KFC = sum(1/(1+ir)**(i*LFC) for i in range(1,4+1))"
   ]
  },
  {
   "cell_type": "code",
   "execution_count": 150,
   "id": "bd1ab212",
   "metadata": {},
   "outputs": [
    {
     "data": {
      "text/plain": [
       "11.469921218565263"
      ]
     },
     "execution_count": 150,
     "metadata": {},
     "output_type": "execute_result"
    }
   ],
   "source": [
    "PWA  = ((1+ir)**year-1)/(ir*(1+ir)**year)\n",
    "PWA"
   ]
  },
  {
   "cell_type": "code",
   "execution_count": 151,
   "id": "ef98b3aa",
   "metadata": {},
   "outputs": [],
   "source": [
    "def LOLy(x):\n",
    "    npv=x[0]\n",
    "    mt = x[1]\n",
    "    tpv = x[2]\n",
    "    irr_to_panels = PVirrH*np.sin(tpv)+PVirrV*np.cos(tpv)\n",
    "    PPV = irr_to_panels/1000*350*0.95*npv\n",
    "    t = 8760\n",
    "    P_FC = np.zeros((t))\n",
    "    P_el = np.zeros((t))\n",
    "    lol = np.zeros((t))\n",
    "    EHST = np.zeros((t))\n",
    "    \n",
    "    for i in range(t):\n",
    "        if i == 0:\n",
    "            EHST[i]=e0\n",
    "        else:\n",
    "            if PPV[i]-ELoad[i]>0:\n",
    "                if EHST[i-1] + etael*(PPV[i]-ELoad[i])<mt*39.7:\n",
    "                    EHST[i] = EHST[i-1] + etael*(PPV[i]-ELoad[i])\n",
    "                    P_el[i] = PPV[i]-ELoad[i]\n",
    "                else:\n",
    "                    EHST[i] = mt*39.7\n",
    "                    P_el[i] = (mt*39.7-EHST[i-1])/etael\n",
    "            else:\n",
    "                if EHST[i-1] + (PPV[i]-ELoad[i])/etaFC*etaHST >0:\n",
    "                    EHST[i] = EHST[i-1] + (PPV[i]-ELoad[i])/etaFC*etaHST\n",
    "                    P_FC[i] = (EHST[i-1]-EHST[i])/etaHST*etaFC\n",
    "                else:\n",
    "                    EHST[i] = 0\n",
    "                    P_FC[i] = (EHST[i-1]-EHST[i])/etaHST*etaFC\n",
    "            l = ELoad[i] + P_el[i] - PPV[i]- P_FC[i]\n",
    "            if l>0:\n",
    "                lol[i] = l\n",
    "    CC = CCPV*PPV.max() + CCel*P_el.max() + CCFC*P_FC.max() + CCHST * mt\n",
    "    RC = 3*RCFC*P_FC.max()*KFC\n",
    "    MC = (MCPV+PPV.max() + MCel*P_el.max() + MCFC*P_FC.max() + MCHST * mt)*PWA\n",
    "    NPC = CC + RC + MC\n",
    "    NPCLoss = CoE*sum(lol)*PWA\n",
    "    if sum(lol)/sum(ELoad)<lolmax:\n",
    "        penalty = 0\n",
    "    else:\n",
    "        penalty = (sum(lol)/sum(ELoad)-lolmax)*1e17\n",
    "    Cost = NPC + NPCLoss + penalty\n",
    "    return Cost\n",
    "    "
   ]
  },
  {
   "cell_type": "code",
   "execution_count": 152,
   "id": "569666d7",
   "metadata": {},
   "outputs": [],
   "source": [
    "class solution:\n",
    "    def __init__(self):\n",
    "        self.best = 0\n",
    "        self.bestIndividual=[]\n",
    "        self.convergence = []\n",
    "        self.optimizer=\"\"\n",
    "        self.objfname=\"\"\n",
    "        self.startTime=0\n",
    "        self.endTime=0\n",
    "        self.executionTime=0\n",
    "        self.lb=0\n",
    "        self.ub=0\n",
    "        self.dim=0\n",
    "        self.popnum=0\n",
    "        self.maxiers=0"
   ]
  },
  {
   "cell_type": "code",
   "execution_count": 153,
   "id": "124caccf",
   "metadata": {},
   "outputs": [],
   "source": [
    "def GWO(objf,lb,ub,dim,SearchAgents_no,Max_iter):\n",
    "    \n",
    "    \n",
    "    #Max_iter=1000\n",
    "    #lb=-100\n",
    "    #ub=100\n",
    "    #dim=30  \n",
    "    #SearchAgents_no=5\n",
    "    \n",
    "    # initialize alpha, beta, and delta_pos\n",
    "    Alpha_pos=np.zeros(dim)\n",
    "    Alpha_score=float(\"inf\")\n",
    "    \n",
    "    Beta_pos=np.zeros(dim)\n",
    "    Beta_score=float(\"inf\")\n",
    "    \n",
    "    Delta_pos=np.zeros(dim)\n",
    "    Delta_score=float(\"inf\")\n",
    "\n",
    "    if not isinstance(lb, list):\n",
    "        lb = [lb] * dim\n",
    "    if not isinstance(ub, list):\n",
    "        ub = [ub] * dim\n",
    "    \n",
    "    #Initialize the positions of search agents\n",
    "    Positions = np.zeros((SearchAgents_no, dim))\n",
    "    for i in range(dim):\n",
    "        Positions[:, i] = np.random.uniform(0,1, SearchAgents_no) * (ub[i] - lb[i]) + lb[i]\n",
    "    \n",
    "    Convergence_curve=np.zeros(Max_iter)\n",
    "    s=solution()\n",
    "     # Loop counter\n",
    "    print(\"GWO is optimizing  \\\"\"+objf.__name__+\"\\\"\")    \n",
    "    \n",
    "    timerStart=time.time() \n",
    "    s.startTime=time.strftime(\"%Y-%m-%d-%H-%M-%S\")\n",
    "    # Main loop\n",
    "    for l in range(0,Max_iter):\n",
    "        for i in range(0,SearchAgents_no):\n",
    "            \n",
    "            # Return back the search agents that go beyond the boundaries of the search space\n",
    "            for j in range(dim):\n",
    "                Positions[i,j]=np.clip(Positions[i,j], lb[j], ub[j])\n",
    "\n",
    "            # Calculate objective function for each search agent\n",
    "            fitness=objf(Positions[i,:])\n",
    "            \n",
    "            # Update Alpha, Beta, and Delta\n",
    "            if fitness<Alpha_score :\n",
    "                Delta_score=Beta_score  # Update delte\n",
    "                Delta_pos=Beta_pos.copy()\n",
    "                Beta_score=Alpha_score  # Update beta\n",
    "                Beta_pos=Alpha_pos.copy()\n",
    "                Alpha_score=fitness; # Update alpha\n",
    "                Alpha_pos=Positions[i,:].copy()\n",
    "            \n",
    "            \n",
    "            if (fitness>Alpha_score and fitness<Beta_score ):\n",
    "                Delta_score=Beta_score  # Update delte\n",
    "                Delta_pos=Beta_pos.copy()\n",
    "                Beta_score=fitness  # Update beta\n",
    "                Beta_pos=Positions[i,:].copy()\n",
    "            \n",
    "            \n",
    "            if (fitness>Alpha_score and fitness>Beta_score and fitness<Delta_score):                 \n",
    "                Delta_score=fitness # Update delta\n",
    "                Delta_pos=Positions[i,:].copy()\n",
    "            \n",
    "        \n",
    "        \n",
    "        \n",
    "        a=2-l*((2)/Max_iter); # a decreases linearly fron 2 to 0\n",
    "        \n",
    "        # Update the Position of search agents including omegas\n",
    "        for i in range(0,SearchAgents_no):\n",
    "            for j in range (0,dim):     \n",
    "                           \n",
    "                r1=random.random() # r1 is a random number in [0,1]\n",
    "                r2=random.random() # r2 is a random number in [0,1]\n",
    "                \n",
    "                A1=2*a*r1-a; # Equation (3.3)\n",
    "                C1=2*r2; # Equation (3.4)\n",
    "                \n",
    "                D_alpha=abs(C1*Alpha_pos[j]-Positions[i,j]); # Equation (3.5)-part 1\n",
    "                X1=Alpha_pos[j]-A1*D_alpha; # Equation (3.6)-part 1\n",
    "                           \n",
    "                r1=random.random()\n",
    "                r2=random.random()\n",
    "                \n",
    "                A2=2*a*r1-a; # Equation (3.3)\n",
    "                C2=2*r2; # Equation (3.4)\n",
    "                \n",
    "                D_beta=abs(C2*Beta_pos[j]-Positions[i,j]); # Equation (3.5)-part 2\n",
    "                X2=Beta_pos[j]-A2*D_beta; # Equation (3.6)-part 2       \n",
    "                \n",
    "                r1=random.random()\n",
    "                r2=random.random() \n",
    "                \n",
    "                A3=2*a*r1-a; # Equation (3.3)\n",
    "                C3=2*r2; # Equation (3.4)\n",
    "                \n",
    "                D_delta=abs(C3*Delta_pos[j]-Positions[i,j]); # Equation (3.5)-part 3\n",
    "                X3=Delta_pos[j]-A3*D_delta; # Equation (3.5)-part 3             \n",
    "                \n",
    "                Positions[i,j]=(X1+X2+X3)/3  # Equation (3.7)\n",
    "                \n",
    "            \n",
    "        \n",
    "        \n",
    "        Convergence_curve[l]=Alpha_score;\n",
    "\n",
    "        #if (l%1==0):\n",
    "               #print(['At iteration '+ str(l)+ ' the best fitness is '+ str(Alpha_score)]);\n",
    "    \n",
    "    timerEnd=time.time()  \n",
    "    s.endTime=time.strftime(\"%Y-%m-%d-%H-%M-%S\")\n",
    "    s.executionTime=timerEnd-timerStart\n",
    "    s.convergence=Convergence_curve\n",
    "    s.optimizer=\"GWO\"\n",
    "    s.objfname=objf.__name__\n",
    "    s.best = list(Alpha_pos)\n",
    "    \n",
    "    \n",
    "    \n",
    "    \n",
    "    return s"
   ]
  },
  {
   "cell_type": "code",
   "execution_count": 154,
   "id": "045b7a96",
   "metadata": {},
   "outputs": [],
   "source": [
    "lb = [0, 0 ,0]\n",
    "ub = [5000,1000,np.pi/2]\n",
    "dim = 3\n",
    "SearchAgents_no = 100\n",
    "Max_iter = 500"
   ]
  },
  {
   "cell_type": "code",
   "execution_count": 155,
   "id": "08000561",
   "metadata": {},
   "outputs": [
    {
     "name": "stdout",
     "output_type": "stream",
     "text": [
      "GWO is optimizing  \"LOLy\"\n"
     ]
    }
   ],
   "source": [
    "s = GWO(LOLy,lb,ub,dim,SearchAgents_no,Max_iter)"
   ]
  },
  {
   "cell_type": "code",
   "execution_count": 156,
   "id": "abb8c941",
   "metadata": {},
   "outputs": [
    {
     "data": {
      "text/plain": [
       "[128.31515521899883, 382.25229461338114, 0.47690520872942166]"
      ]
     },
     "execution_count": 156,
     "metadata": {},
     "output_type": "execute_result"
    }
   ],
   "source": [
    "s.best"
   ]
  },
  {
   "cell_type": "code",
   "execution_count": 157,
   "id": "7fc3393f",
   "metadata": {},
   "outputs": [
    {
     "data": {
      "text/plain": [
       "0.4195350494022383"
      ]
     },
     "execution_count": 157,
     "metadata": {},
     "output_type": "execute_result"
    }
   ],
   "source": [
    "0.4195350494022383"
   ]
  },
  {
   "cell_type": "code",
   "execution_count": 158,
   "id": "46ad04f1",
   "metadata": {},
   "outputs": [
    {
     "data": {
      "text/plain": [
       "27.324655688001446"
      ]
     },
     "execution_count": 158,
     "metadata": {},
     "output_type": "execute_result"
    }
   ],
   "source": [
    "s.best[2]*180/np.pi"
   ]
  },
  {
   "cell_type": "code",
   "execution_count": 159,
   "id": "46a82c9f",
   "metadata": {},
   "outputs": [
    {
     "data": {
      "text/plain": [
       "2300.8973643779755"
      ]
     },
     "execution_count": 159,
     "metadata": {},
     "output_type": "execute_result"
    }
   ],
   "source": [
    "s.executionTime"
   ]
  },
  {
   "cell_type": "code",
   "execution_count": 170,
   "id": "5e58cfd2",
   "metadata": {},
   "outputs": [
    {
     "data": {
      "image/png": "[encoded data removed]",
      "text/plain": [
       "<Figure size 800x400 with 1 Axes>"
      ]
     },
     "metadata": {},
     "output_type": "display_data"
    }
   ],
   "source": [
    "fig = plt.subplots(figsize =(8, 4))\n",
    "plt.grid(True,zorder=-1)\n",
    "plt.plot(s.convergence,color='#d62728')\n",
    "plt.xlabel('Iteration',fontweight ='bold', fontsize = 10,fontname='Times New Roman')\n",
    "plt.ylabel('Loss (\\u00d7 1e7)',fontweight ='bold', fontsize = 10,fontname='Times New Roman')\n",
    "\n",
    "plt.yticks([1.3e7, 1.4e7, 1.5e7, 1.6e7 ,1.7e7, 1.8e7, 1.9e7, 2e7], ['', '1.4', '1.5', '1.6' ,'1.7', '1.8', '1.9', ''],\n",
    "           fontname='Times New Roman', fontsize = 10, fontweight ='bold')\n",
    "\n",
    "plt.xticks([0, 100, 200, 300, 400, 500, 550],\n",
    "           ['0', '100', '200', '300', '400', '500', ''],\n",
    "           fontname='Times New Roman',fontsize = 10, fontweight ='bold')\n",
    "plt.gca().set_axisbelow(True)\n",
    "plt.show()"
   ]
  },
  {
   "cell_type": "code",
   "execution_count": 161,
   "id": "a7074b9d",
   "metadata": {},
   "outputs": [],
   "source": [
    "def LOLyc(x):\n",
    "    npv=x[0]\n",
    "    mt = x[1]\n",
    "    tpv = x[2]\n",
    "    irr_to_panels = PVirrH*np.sin(tpv)+PVirrV*np.cos(tpv)\n",
    "    PPV = irr_to_panels/1000*350*0.95*npv\n",
    "    t = 8760\n",
    "    P_FC = np.zeros((t))\n",
    "    P_el = np.zeros((t))\n",
    "    lol = np.zeros((t))\n",
    "    EHST = np.zeros((t))\n",
    "    \n",
    "    for i in range(t):\n",
    "        if i == 0:\n",
    "            EHST[i]=e0\n",
    "        else:\n",
    "            if PPV[i]-ELoad[i]>0:\n",
    "                if EHST[i-1] + etael*(PPV[i]-ELoad[i])<mt*39.7:\n",
    "                    EHST[i] = EHST[i-1] + etael*(PPV[i]-ELoad[i])\n",
    "                    P_el[i] = PPV[i]-ELoad[i]\n",
    "                else:\n",
    "                    EHST[i] = mt*39.7\n",
    "                    P_el[i] = (mt*39.7-EHST[i-1])/etael\n",
    "            else:\n",
    "                if EHST[i-1] + (PPV[i]-ELoad[i])/etaFC*etaHST >0:\n",
    "                    EHST[i] = EHST[i-1] + (PPV[i]-ELoad[i])/etaFC*etaHST\n",
    "                    P_FC[i] = (EHST[i-1]-EHST[i])/etaHST*etaFC\n",
    "                else:\n",
    "                    EHST[i] = 0\n",
    "                    P_FC[i] = (EHST[i-1]-EHST[i])/etaHST*etaFC\n",
    "            l = ELoad[i] + P_el[i] - PPV[i]- P_FC[i]\n",
    "            if l>0:\n",
    "                lol[i] = l\n",
    "    print(P_FC.max())\n",
    "    print(PPV.max())\n",
    "    print(P_el.max())\n",
    "    print(ELoad.max())\n",
    "    CC = CCPV*PPV.max() + CCel*P_el.max() + CCFC*P_FC.max() + CCHST * mt\n",
    "    RC = 3*RCFC*P_FC.max()*KFC\n",
    "    MC = (MCPV+PPV.max() + MCel*P_el.max() + MCFC*P_FC.max() + MCHST * mt)*PWA\n",
    "    NPC = CC + RC + MC\n",
    "    NPCLoss = CoE*sum(lol)*PWA\n",
    "    if sum(lol)/sum(ELoad)<lolmax:\n",
    "        penalty = 0\n",
    "    else:\n",
    "        penalty = (sum(lol)/sum(ELoad)-lolmax)*1e17\n",
    "    print(penalty)\n",
    "    print(sum(lol)/sum(ELoad))\n",
    "    print(NPCLoss)\n",
    "    print('CC = ',CC)\n",
    "    print('RC = ',RC)\n",
    "    print('MC = ',MC)\n",
    "    Cost = NPC + NPCLoss + penalty\n",
    "    print (Cost)\n",
    "    print(sum(lol))\n",
    "    return EHST"
   ]
  },
  {
   "cell_type": "code",
   "execution_count": 162,
   "id": "4cc7df14",
   "metadata": {},
   "outputs": [
    {
     "name": "stdout",
     "output_type": "stream",
     "text": [
      "200.0\n",
      "2706.9015924421483\n",
      "2009.9581071411471\n",
      "200.0\n",
      "0\n",
      "0.009998556199870138\n",
      "57522.763046043925\n",
      "CC =  10730647.382163987\n",
      "RC =  4272917.7485458795\n",
      "MC =  1361590.2036606146\n",
      "16422678.097416524\n",
      "12537.741530634345\n"
     ]
    }
   ],
   "source": [
    "EHST = LOLyc(s.best)"
   ]
  },
  {
   "cell_type": "code",
   "execution_count": 163,
   "id": "01d7d9a4",
   "metadata": {},
   "outputs": [
    {
     "data": {
      "image/png": "[encoded data removed]",
      "text/plain": [
       "<Figure size 800x400 with 1 Axes>"
      ]
     },
     "metadata": {},
     "output_type": "display_data"
    }
   ],
   "source": [
    "fig = plt.subplots(figsize =(8, 4))\n",
    "plt.grid(True,zorder=-1)\n",
    "plt.plot([i/39.7 for i in EHST], color='#FF8C00')\n",
    "plt.xlabel('Time (h)',fontweight ='bold', fontsize = 10,fontname='Times New Roman')\n",
    "plt.ylabel('Hydrogen (kg)',fontweight ='bold', fontsize = 10,fontname='Times New Roman')\n",
    "\n",
    "plt.yticks([0, 20, 40, 60 , 80, 100, 120, 140, 160, 180 , 200], \n",
    "           ['0', '20', '40', '60' , '80', '100', '120', '140', '160', '180' , '200'],\n",
    "           fontname='Times New Roman', fontsize = 10, fontweight ='bold')\n",
    "\n",
    "plt.xticks([0, 1000, 2000, 3000, 4000, 5000, 6000, 7000, 8000, 9000],\n",
    "           ['0', '1000', '2000', '3000', '4000', '5000', '6000', '7000', '8000', ' '],\n",
    "           fontname='Times New Roman',fontsize = 10, fontweight ='bold')\n",
    "plt.gca().set_axisbelow(True)\n",
    "plt.show()"
   ]
  },
  {
   "cell_type": "code",
   "execution_count": null,
   "id": "566f94b3",
   "metadata": {},
   "outputs": [],
   "source": []
  },
  {
   "cell_type": "code",
   "execution_count": null,
   "id": "7a974499",
   "metadata": {},
   "outputs": [],
   "source": []
  },
  {
   "cell_type": "code",
   "execution_count": null,
   "id": "01be5b85",
   "metadata": {},
   "outputs": [],
   "source": []
  },
  {
   "cell_type": "code",
   "execution_count": null,
   "id": "eac9e143",
   "metadata": {},
   "outputs": [],
   "source": []
  },
  {
   "cell_type": "code",
   "execution_count": null,
   "id": "5826d208",
   "metadata": {},
   "outputs": [],
   "source": []
  },
  {
   "cell_type": "code",
   "execution_count": null,
   "id": "fdb67048",
   "metadata": {},
   "outputs": [],
   "source": []
  },
  {
   "cell_type": "code",
   "execution_count": 164,
   "id": "f63db206",
   "metadata": {},
   "outputs": [],
   "source": [
    "t = 8760\n",
    "EHST = np.zeros((t))\n",
    "for i in range(t):\n",
    "    if i == 0:\n",
    "        EHST[i]=e0\n",
    "    else:\n",
    "        if PVLoad[i]-ELoad[i]>0:\n",
    "            if EHST[i-1] + etael*(PVLoad[i]-ELoad[i])<HSTC:\n",
    "                EHST[i] = EHST[i-1] + etael*(PVLoad[i]-ELoad[i])\n",
    "            else:\n",
    "                EHST[i] = HSTC\n",
    "        else:\n",
    "            if EHST[i-1] + (PVLoad[i]-ELoad[i])/etaFC*etaHST >0:\n",
    "                EHST[i] = EHST[i-1] + (PVLoad[i]-ELoad[i])/etaFC*etaHST\n",
    "            else:\n",
    "                EHST[i] = 0"
   ]
  },
  {
   "cell_type": "code",
   "execution_count": 165,
   "id": "b1e7050a",
   "metadata": {},
   "outputs": [],
   "source": [
    "def P_FC(t):\n",
    "    if EHST[t-1]-EHST[t]>0:\n",
    "        return (EHST[t-1]-EHST[t])/etaHST*etaFC\n",
    "    else:\n",
    "        return 0"
   ]
  },
  {
   "cell_type": "code",
   "execution_count": 166,
   "id": "8d395194",
   "metadata": {},
   "outputs": [],
   "source": [
    "def P_El(t):\n",
    "    if EHST[t-1]-EHST[t]<0:\n",
    "        return -(EHST[t-1]-EHST[t])/etael\n",
    "    else:\n",
    "        return 0"
   ]
  },
  {
   "cell_type": "code",
   "execution_count": 167,
   "id": "a84ebaae",
   "metadata": {},
   "outputs": [],
   "source": [
    "def LOL(t):\n",
    "    l = ELoad[t] + P_El(t) - PVLoad[t]- P_FC(t)\n",
    "    if l<0:\n",
    "        l = 0\n",
    "    return l"
   ]
  },
  {
   "cell_type": "code",
   "execution_count": null,
   "id": "f30c450e",
   "metadata": {},
   "outputs": [],
   "source": []
  },
  {
   "cell_type": "code",
   "execution_count": null,
   "id": "c29c1d18",
   "metadata": {},
   "outputs": [],
   "source": []
  },
  {
   "cell_type": "code",
   "execution_count": null,
   "id": "63732658",
   "metadata": {},
   "outputs": [],
   "source": []
  },
  {
   "cell_type": "code",
   "execution_count": null,
   "id": "475cd01d",
   "metadata": {},
   "outputs": [],
   "source": []
  },
  {
   "cell_type": "code",
   "execution_count": null,
   "id": "76b3c6d5",
   "metadata": {},
   "outputs": [],
   "source": []
  },
  {
   "cell_type": "code",
   "execution_count": null,
   "id": "13e692b7",
   "metadata": {},
   "outputs": [],
   "source": []
  },
  {
   "cell_type": "code",
   "execution_count": null,
   "id": "5a1c4aba",
   "metadata": {},
   "outputs": [],
   "source": []
  },
  {
   "cell_type": "code",
   "execution_count": null,
   "id": "c66da847",
   "metadata": {},
   "outputs": [],
   "source": []
  }
 ],
 "metadata": {
  "kernelspec": {
   "display_name": "Python 3 (ipykernel)",
   "language": "python",
   "name": "python3"
  },
  "language_info": {
   "codemirror_mode": {
    "name": "ipython",
    "version": 3
   },
   "file_extension": ".py",
   "mimetype": "text/x-python",
   "name": "python",
   "nbconvert_exporter": "python",
   "pygments_lexer": "ipython3",
   "version": "3.9.13"
  }
 },
 "nbformat": 4,
 "nbformat_minor": 5
}
